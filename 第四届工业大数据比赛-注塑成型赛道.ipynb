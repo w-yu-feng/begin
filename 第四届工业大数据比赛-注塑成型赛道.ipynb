{
 "cells": [
  {
   "cell_type": "code",
   "execution_count": 225,
   "metadata": {},
   "outputs": [],
   "source": [
    "import numpy as np\n",
    "import pandas as pd\n",
    "from sklearn.linear_model import ElasticNetCV, LassoCV, RidgeCV\n",
    "from sklearn.ensemble import GradientBoostingRegressor\n",
    "from sklearn.kernel_ridge import KernelRidge\n",
    "from sklearn.pipeline import make_pipeline\n",
    "from sklearn.preprocessing import RobustScaler\n",
    "from sklearn.model_selection import KFold, cross_val_score\n",
    "from sklearn.metrics import mean_squared_error\n",
    "from mlxtend.regressor import StackingCVRegressor\n",
    "import xgboost as xgb\n",
    "import lightgbm as lgb\n",
    "import warnings\n",
    "warnings.filterwarnings('ignore')"
   ]
  },
  {
   "cell_type": "code",
   "execution_count": 226,
   "metadata": {},
   "outputs": [],
   "source": [
    "import pandas as pd\n",
    "import numpy as np\n",
    "import zipfile\n",
    "from sklearn.model_selection import KFold\n",
    "import lightgbm as lgb"
   ]
  },
  {
   "cell_type": "markdown",
   "metadata": {},
   "source": [
    "# 构建预测size1和size3的数据集"
   ]
  },
  {
   "cell_type": "code",
   "execution_count": 227,
   "metadata": {},
   "outputs": [],
   "source": [
    "# 读取data_spc数据"
   ]
  },
  {
   "cell_type": "code",
   "execution_count": 228,
   "metadata": {},
   "outputs": [],
   "source": [
    "size_train=pd.read_csv('任务A\\任务A数据集\\训练集\\Size.csv')\n",
    "df_train_spc=pd.read_csv('任务A\\任务A数据集\\训练集\\data_spc.csv')\n",
    "df_test_spc=pd.read_csv('任务A\\任务A数据集\\测试集\\data_spc.csv')\n",
    "\n",
    "\n",
    "variables1=['Sensor1', 'Sensor2', 'Sensor3', 'IJ', 'Sensor5',\n",
    "       'Sensor6', 'MouldTemp1', 'MouldTemp2', 'MouldTemp3', 'MouldTemp4',\n",
    "       'MouldTemp5', 'MouldTemp9', 'MouldTemp10', 'MouldTemp11', 'MouldTemp12',\n",
    "       'MouldTemp13', 'MouldTemp14', 'Sensor8', 'MouldFlow1', 'MouldFlow2',\n",
    "       'MouldFlow3', 'SP']"
   ]
  },
  {
   "cell_type": "code",
   "execution_count": 229,
   "metadata": {},
   "outputs": [],
   "source": [
    "# 训练集高频数据特征提取\n",
    "TRAIN_ZIP=zipfile.ZipFile('任务A\\任务A数据集\\训练集\\传感器高频数据.zip')\n",
    "file_list=TRAIN_ZIP.namelist()\n",
    "feature_n = len(variables1)\n",
    "features_ = np.empty([len(file_list), feature_n])\n",
    "times_ = []\n",
    "mold_id_ = []\n",
    "\n",
    "def feature_columns(variables):\n",
    "    f_cols = []\n",
    "    for v in variables:\n",
    "        f_cols.append(v + '_mean')\n",
    "    return f_cols\n",
    "\n",
    "def stage_features(df, variables):\n",
    "    avg = []\n",
    "    tmp_df = df.loc[:, variables]\n",
    "    for v in variables:\n",
    "        tmp_avg = tmp_df[v].mean()\n",
    "        avg.append(tmp_avg)    \n",
    "    return np.array(avg)\n",
    "\n",
    "feature_n = len(variables1)\n",
    "features_ = np.empty([len(file_list), feature_n])\n",
    "times_ = []\n",
    "mold_id_ = []\n",
    "for i,f in enumerate(file_list):\n",
    "    df=pd.read_csv(TRAIN_ZIP.open(f))\n",
    "    tmp = f.split('_')\n",
    "    ti = tmp[2]\n",
    "    mold_id = tmp[3].replace('.csv', '')\n",
    "    times_.append(str(ti))\n",
    "    mold_id_.append(int(mold_id))\n",
    "    \n",
    "    if len(df) == 0:\n",
    "        features_[i] = [None for j in range(feature_n)]\n",
    "    else:\n",
    "        features_[i] = stage_features(df, variables1)\n",
    "f_cols = feature_columns(variables1)\n",
    "TRAIN_HIG = pd.DataFrame(features_, columns=f_cols)\n",
    "TRAIN_HIG['Time'] = times_\n",
    "TRAIN_HIG['Id'] = mold_id_\n",
    "TRAIN_HIG = TRAIN_HIG[['Id', 'Time'] + f_cols]\n",
    "TRAIN_ZIP.close()"
   ]
  },
  {
   "cell_type": "code",
   "execution_count": 230,
   "metadata": {},
   "outputs": [],
   "source": [
    "# 测试集高频数据特征提取\n",
    "TEST_ZIP=zipfile.ZipFile('任务A\\任务A数据集测试集\\传感器高频数据.zip')\n",
    "file_list=TEST_ZIP.namelist()\n",
    "feature_n = len(variables1)\n",
    "features_ = np.empty([len(file_list), feature_n])\n",
    "times_ = []\n",
    "mold_id_ = []\n",
    "for i,f in enumerate(file_list):\n",
    "    df=pd.read_csv(TEST_ZIP.open(f))\n",
    "    tmp = f.split('_')\n",
    "    ti = tmp[2]\n",
    "    mold_id = tmp[3].replace('.csv', '')\n",
    "    times_.append(str(ti))\n",
    "    mold_id_.append(int(mold_id))\n",
    "    if len(df) == 0:\n",
    "        features_[i] = [None for j in range(feature_n)]\n",
    "    else:\n",
    "        features_[i] = stage_features(df, variables1)\n",
    "f_cols = feature_columns(variables1)\n",
    "TEST_HIG = pd.DataFrame(features_, columns=f_cols)\n",
    "TEST_HIG['Time'] = times_\n",
    "TEST_HIG['Id'] = mold_id_\n",
    "TEST_HIG = TEST_HIG[['Id', 'Time'] + f_cols]\n",
    "TEST_ZIP.close()\n",
    "\n",
    "TRAIN_HIG.rename(columns={'Time':'spcTime'}, inplace=True)\n",
    "TEST_HIG.rename(columns={'Time':'spcTime'}, inplace=True)\n",
    "\n",
    "df_train_spc['spcTime']=df_train_spc['spcTime'].apply(int)\n",
    "df_train_spc['spcTime']=df_train_spc['spcTime'].apply(str)\n",
    "df_test_spc['spcTime']=df_test_spc['spcTime'].apply(int)\n",
    "df_test_spc['spcTime']=df_test_spc['spcTime'].apply(str)\n",
    "\n",
    "df_TRAIN=TRAIN_HIG.merge(df_train_spc, how='outer', on=['Id', 'spcTime']) \n",
    "df_TEST=TEST_HIG.merge(df_test_spc, how='outer', on=['Id', 'spcTime']) \n",
    "X_col=[i for i in df_TRAIN.columns if not i in ['Id', 'spcTime']]"
   ]
  },
  {
   "cell_type": "code",
   "execution_count": 231,
   "metadata": {},
   "outputs": [],
   "source": [
    "x_train=df_TRAIN[X_col]\n",
    "x_test=df_TEST[X_col]\n",
    "y_train = pd.read_csv('Train\\Size.csv')"
   ]
  },
  {
   "cell_type": "code",
   "execution_count": null,
   "metadata": {},
   "outputs": [],
   "source": []
  },
  {
   "cell_type": "code",
   "execution_count": 232,
   "metadata": {},
   "outputs": [],
   "source": [
    "# 训练集缺失值处理"
   ]
  },
  {
   "cell_type": "code",
   "execution_count": 233,
   "metadata": {},
   "outputs": [
    {
     "data": {
      "text/html": [
       "<div>\n",
       "<style scoped>\n",
       "    .dataframe tbody tr th:only-of-type {\n",
       "        vertical-align: middle;\n",
       "    }\n",
       "\n",
       "    .dataframe tbody tr th {\n",
       "        vertical-align: top;\n",
       "    }\n",
       "\n",
       "    .dataframe thead th {\n",
       "        text-align: right;\n",
       "    }\n",
       "</style>\n",
       "<table border=\"1\" class=\"dataframe\">\n",
       "  <thead>\n",
       "    <tr style=\"text-align: right;\">\n",
       "      <th></th>\n",
       "      <th>Sensor1_mean</th>\n",
       "      <th>Sensor2_mean</th>\n",
       "      <th>Sensor3_mean</th>\n",
       "      <th>IJ_mean</th>\n",
       "      <th>Sensor5_mean</th>\n",
       "      <th>Sensor6_mean</th>\n",
       "      <th>MouldTemp1_mean</th>\n",
       "      <th>MouldTemp2_mean</th>\n",
       "      <th>MouldTemp3_mean</th>\n",
       "      <th>MouldTemp4_mean</th>\n",
       "      <th>...</th>\n",
       "      <th>EL_PP_STG_POS_4</th>\n",
       "      <th>EL_CLAMP_PRESS</th>\n",
       "      <th>EL_MAX_INJ_PRESS</th>\n",
       "      <th>EL_IV_END_PRESS</th>\n",
       "      <th>EL_CF_END_PRESS</th>\n",
       "      <th>EL_PLST_BP_0</th>\n",
       "      <th>EL_PLST_BP_1</th>\n",
       "      <th>EL_PLST_BP_2</th>\n",
       "      <th>EL_PLST_BP_3</th>\n",
       "      <th>EL_PLST_BP_4</th>\n",
       "    </tr>\n",
       "  </thead>\n",
       "  <tbody>\n",
       "    <tr>\n",
       "      <th>0</th>\n",
       "      <td>False</td>\n",
       "      <td>False</td>\n",
       "      <td>False</td>\n",
       "      <td>False</td>\n",
       "      <td>False</td>\n",
       "      <td>False</td>\n",
       "      <td>False</td>\n",
       "      <td>False</td>\n",
       "      <td>False</td>\n",
       "      <td>False</td>\n",
       "      <td>...</td>\n",
       "      <td>False</td>\n",
       "      <td>False</td>\n",
       "      <td>False</td>\n",
       "      <td>False</td>\n",
       "      <td>False</td>\n",
       "      <td>False</td>\n",
       "      <td>False</td>\n",
       "      <td>False</td>\n",
       "      <td>False</td>\n",
       "      <td>False</td>\n",
       "    </tr>\n",
       "    <tr>\n",
       "      <th>1</th>\n",
       "      <td>False</td>\n",
       "      <td>False</td>\n",
       "      <td>False</td>\n",
       "      <td>False</td>\n",
       "      <td>False</td>\n",
       "      <td>False</td>\n",
       "      <td>False</td>\n",
       "      <td>False</td>\n",
       "      <td>False</td>\n",
       "      <td>False</td>\n",
       "      <td>...</td>\n",
       "      <td>False</td>\n",
       "      <td>False</td>\n",
       "      <td>False</td>\n",
       "      <td>False</td>\n",
       "      <td>False</td>\n",
       "      <td>False</td>\n",
       "      <td>False</td>\n",
       "      <td>False</td>\n",
       "      <td>False</td>\n",
       "      <td>False</td>\n",
       "    </tr>\n",
       "    <tr>\n",
       "      <th>2</th>\n",
       "      <td>False</td>\n",
       "      <td>False</td>\n",
       "      <td>False</td>\n",
       "      <td>False</td>\n",
       "      <td>False</td>\n",
       "      <td>False</td>\n",
       "      <td>False</td>\n",
       "      <td>False</td>\n",
       "      <td>False</td>\n",
       "      <td>False</td>\n",
       "      <td>...</td>\n",
       "      <td>False</td>\n",
       "      <td>False</td>\n",
       "      <td>False</td>\n",
       "      <td>False</td>\n",
       "      <td>False</td>\n",
       "      <td>False</td>\n",
       "      <td>False</td>\n",
       "      <td>False</td>\n",
       "      <td>False</td>\n",
       "      <td>False</td>\n",
       "    </tr>\n",
       "    <tr>\n",
       "      <th>3</th>\n",
       "      <td>False</td>\n",
       "      <td>False</td>\n",
       "      <td>False</td>\n",
       "      <td>False</td>\n",
       "      <td>False</td>\n",
       "      <td>False</td>\n",
       "      <td>False</td>\n",
       "      <td>False</td>\n",
       "      <td>False</td>\n",
       "      <td>False</td>\n",
       "      <td>...</td>\n",
       "      <td>False</td>\n",
       "      <td>False</td>\n",
       "      <td>False</td>\n",
       "      <td>False</td>\n",
       "      <td>False</td>\n",
       "      <td>False</td>\n",
       "      <td>False</td>\n",
       "      <td>False</td>\n",
       "      <td>False</td>\n",
       "      <td>False</td>\n",
       "    </tr>\n",
       "    <tr>\n",
       "      <th>4</th>\n",
       "      <td>False</td>\n",
       "      <td>False</td>\n",
       "      <td>False</td>\n",
       "      <td>False</td>\n",
       "      <td>False</td>\n",
       "      <td>False</td>\n",
       "      <td>False</td>\n",
       "      <td>False</td>\n",
       "      <td>False</td>\n",
       "      <td>False</td>\n",
       "      <td>...</td>\n",
       "      <td>False</td>\n",
       "      <td>False</td>\n",
       "      <td>False</td>\n",
       "      <td>False</td>\n",
       "      <td>False</td>\n",
       "      <td>False</td>\n",
       "      <td>False</td>\n",
       "      <td>False</td>\n",
       "      <td>False</td>\n",
       "      <td>False</td>\n",
       "    </tr>\n",
       "    <tr>\n",
       "      <th>...</th>\n",
       "      <td>...</td>\n",
       "      <td>...</td>\n",
       "      <td>...</td>\n",
       "      <td>...</td>\n",
       "      <td>...</td>\n",
       "      <td>...</td>\n",
       "      <td>...</td>\n",
       "      <td>...</td>\n",
       "      <td>...</td>\n",
       "      <td>...</td>\n",
       "      <td>...</td>\n",
       "      <td>...</td>\n",
       "      <td>...</td>\n",
       "      <td>...</td>\n",
       "      <td>...</td>\n",
       "      <td>...</td>\n",
       "      <td>...</td>\n",
       "      <td>...</td>\n",
       "      <td>...</td>\n",
       "      <td>...</td>\n",
       "      <td>...</td>\n",
       "    </tr>\n",
       "    <tr>\n",
       "      <th>16595</th>\n",
       "      <td>False</td>\n",
       "      <td>False</td>\n",
       "      <td>False</td>\n",
       "      <td>False</td>\n",
       "      <td>False</td>\n",
       "      <td>False</td>\n",
       "      <td>False</td>\n",
       "      <td>False</td>\n",
       "      <td>False</td>\n",
       "      <td>False</td>\n",
       "      <td>...</td>\n",
       "      <td>False</td>\n",
       "      <td>False</td>\n",
       "      <td>False</td>\n",
       "      <td>False</td>\n",
       "      <td>False</td>\n",
       "      <td>False</td>\n",
       "      <td>False</td>\n",
       "      <td>False</td>\n",
       "      <td>False</td>\n",
       "      <td>False</td>\n",
       "    </tr>\n",
       "    <tr>\n",
       "      <th>16596</th>\n",
       "      <td>False</td>\n",
       "      <td>False</td>\n",
       "      <td>False</td>\n",
       "      <td>False</td>\n",
       "      <td>False</td>\n",
       "      <td>False</td>\n",
       "      <td>False</td>\n",
       "      <td>False</td>\n",
       "      <td>False</td>\n",
       "      <td>False</td>\n",
       "      <td>...</td>\n",
       "      <td>False</td>\n",
       "      <td>False</td>\n",
       "      <td>False</td>\n",
       "      <td>False</td>\n",
       "      <td>False</td>\n",
       "      <td>False</td>\n",
       "      <td>False</td>\n",
       "      <td>False</td>\n",
       "      <td>False</td>\n",
       "      <td>False</td>\n",
       "    </tr>\n",
       "    <tr>\n",
       "      <th>16597</th>\n",
       "      <td>False</td>\n",
       "      <td>False</td>\n",
       "      <td>False</td>\n",
       "      <td>False</td>\n",
       "      <td>False</td>\n",
       "      <td>False</td>\n",
       "      <td>False</td>\n",
       "      <td>False</td>\n",
       "      <td>False</td>\n",
       "      <td>False</td>\n",
       "      <td>...</td>\n",
       "      <td>False</td>\n",
       "      <td>False</td>\n",
       "      <td>False</td>\n",
       "      <td>False</td>\n",
       "      <td>False</td>\n",
       "      <td>False</td>\n",
       "      <td>False</td>\n",
       "      <td>False</td>\n",
       "      <td>False</td>\n",
       "      <td>False</td>\n",
       "    </tr>\n",
       "    <tr>\n",
       "      <th>16598</th>\n",
       "      <td>False</td>\n",
       "      <td>False</td>\n",
       "      <td>False</td>\n",
       "      <td>False</td>\n",
       "      <td>False</td>\n",
       "      <td>False</td>\n",
       "      <td>False</td>\n",
       "      <td>False</td>\n",
       "      <td>False</td>\n",
       "      <td>False</td>\n",
       "      <td>...</td>\n",
       "      <td>False</td>\n",
       "      <td>False</td>\n",
       "      <td>False</td>\n",
       "      <td>False</td>\n",
       "      <td>False</td>\n",
       "      <td>False</td>\n",
       "      <td>False</td>\n",
       "      <td>False</td>\n",
       "      <td>False</td>\n",
       "      <td>False</td>\n",
       "    </tr>\n",
       "    <tr>\n",
       "      <th>16599</th>\n",
       "      <td>False</td>\n",
       "      <td>False</td>\n",
       "      <td>False</td>\n",
       "      <td>False</td>\n",
       "      <td>False</td>\n",
       "      <td>False</td>\n",
       "      <td>False</td>\n",
       "      <td>False</td>\n",
       "      <td>False</td>\n",
       "      <td>False</td>\n",
       "      <td>...</td>\n",
       "      <td>False</td>\n",
       "      <td>False</td>\n",
       "      <td>False</td>\n",
       "      <td>False</td>\n",
       "      <td>False</td>\n",
       "      <td>False</td>\n",
       "      <td>False</td>\n",
       "      <td>False</td>\n",
       "      <td>False</td>\n",
       "      <td>False</td>\n",
       "    </tr>\n",
       "  </tbody>\n",
       "</table>\n",
       "<p>16600 rows × 106 columns</p>\n",
       "</div>"
      ],
      "text/plain": [
       "       Sensor1_mean  Sensor2_mean  Sensor3_mean  IJ_mean  Sensor5_mean  \\\n",
       "0             False         False         False    False         False   \n",
       "1             False         False         False    False         False   \n",
       "2             False         False         False    False         False   \n",
       "3             False         False         False    False         False   \n",
       "4             False         False         False    False         False   \n",
       "...             ...           ...           ...      ...           ...   \n",
       "16595         False         False         False    False         False   \n",
       "16596         False         False         False    False         False   \n",
       "16597         False         False         False    False         False   \n",
       "16598         False         False         False    False         False   \n",
       "16599         False         False         False    False         False   \n",
       "\n",
       "       Sensor6_mean  MouldTemp1_mean  MouldTemp2_mean  MouldTemp3_mean  \\\n",
       "0             False            False            False            False   \n",
       "1             False            False            False            False   \n",
       "2             False            False            False            False   \n",
       "3             False            False            False            False   \n",
       "4             False            False            False            False   \n",
       "...             ...              ...              ...              ...   \n",
       "16595         False            False            False            False   \n",
       "16596         False            False            False            False   \n",
       "16597         False            False            False            False   \n",
       "16598         False            False            False            False   \n",
       "16599         False            False            False            False   \n",
       "\n",
       "       MouldTemp4_mean  ...  EL_PP_STG_POS_4  EL_CLAMP_PRESS  \\\n",
       "0                False  ...            False           False   \n",
       "1                False  ...            False           False   \n",
       "2                False  ...            False           False   \n",
       "3                False  ...            False           False   \n",
       "4                False  ...            False           False   \n",
       "...                ...  ...              ...             ...   \n",
       "16595            False  ...            False           False   \n",
       "16596            False  ...            False           False   \n",
       "16597            False  ...            False           False   \n",
       "16598            False  ...            False           False   \n",
       "16599            False  ...            False           False   \n",
       "\n",
       "       EL_MAX_INJ_PRESS  EL_IV_END_PRESS  EL_CF_END_PRESS  EL_PLST_BP_0  \\\n",
       "0                 False            False            False         False   \n",
       "1                 False            False            False         False   \n",
       "2                 False            False            False         False   \n",
       "3                 False            False            False         False   \n",
       "4                 False            False            False         False   \n",
       "...                 ...              ...              ...           ...   \n",
       "16595             False            False            False         False   \n",
       "16596             False            False            False         False   \n",
       "16597             False            False            False         False   \n",
       "16598             False            False            False         False   \n",
       "16599             False            False            False         False   \n",
       "\n",
       "       EL_PLST_BP_1  EL_PLST_BP_2  EL_PLST_BP_3  EL_PLST_BP_4  \n",
       "0             False         False         False         False  \n",
       "1             False         False         False         False  \n",
       "2             False         False         False         False  \n",
       "3             False         False         False         False  \n",
       "4             False         False         False         False  \n",
       "...             ...           ...           ...           ...  \n",
       "16595         False         False         False         False  \n",
       "16596         False         False         False         False  \n",
       "16597         False         False         False         False  \n",
       "16598         False         False         False         False  \n",
       "16599         False         False         False         False  \n",
       "\n",
       "[16600 rows x 106 columns]"
      ]
     },
     "execution_count": 233,
     "metadata": {},
     "output_type": "execute_result"
    }
   ],
   "source": [
    "x_train.isnull()"
   ]
  },
  {
   "cell_type": "code",
   "execution_count": 234,
   "metadata": {},
   "outputs": [],
   "source": [
    "x_train.dropna(axis=\"columns\", how='all', inplace=True)"
   ]
  },
  {
   "cell_type": "code",
   "execution_count": 235,
   "metadata": {},
   "outputs": [],
   "source": [
    "x_train.drop(\"remark\", axis=1, inplace = True)"
   ]
  },
  {
   "cell_type": "code",
   "execution_count": 236,
   "metadata": {},
   "outputs": [],
   "source": [
    "x_train.loc[:, :] = x_train[:].fillna(0)"
   ]
  },
  {
   "cell_type": "code",
   "execution_count": 237,
   "metadata": {},
   "outputs": [],
   "source": [
    "# 测试集缺失值处理"
   ]
  },
  {
   "cell_type": "code",
   "execution_count": 238,
   "metadata": {},
   "outputs": [],
   "source": [
    "x_test.dropna(axis=\"columns\", how='all', inplace=True)"
   ]
  },
  {
   "cell_type": "code",
   "execution_count": 239,
   "metadata": {},
   "outputs": [],
   "source": [
    "x_test.drop(\"remark\", axis=1, inplace = True)"
   ]
  },
  {
   "cell_type": "code",
   "execution_count": 240,
   "metadata": {},
   "outputs": [],
   "source": [
    "x_test.loc[:, :] = x_test[:].fillna(0)"
   ]
  },
  {
   "cell_type": "code",
   "execution_count": 241,
   "metadata": {},
   "outputs": [],
   "source": [
    "# 转换成矩阵"
   ]
  },
  {
   "cell_type": "code",
   "execution_count": 242,
   "metadata": {},
   "outputs": [],
   "source": [
    "x_train = np.array(x_train)\n",
    "y_train = np.array(y_train)\n",
    "x_test = np.array(x_test)"
   ]
  },
  {
   "cell_type": "markdown",
   "metadata": {},
   "source": [
    "# 预测尺寸1"
   ]
  },
  {
   "cell_type": "code",
   "execution_count": 243,
   "metadata": {},
   "outputs": [],
   "source": [
    "# 利用sklearn的SelectKBest筛选出x_train特征"
   ]
  },
  {
   "cell_type": "code",
   "execution_count": 244,
   "metadata": {},
   "outputs": [],
   "source": [
    "from sklearn.feature_selection import SelectKBest, f_regression"
   ]
  },
  {
   "cell_type": "code",
   "execution_count": 245,
   "metadata": {},
   "outputs": [],
   "source": [
    "skb=SelectKBest(f_regression, k=21)"
   ]
  },
  {
   "cell_type": "code",
   "execution_count": 246,
   "metadata": {},
   "outputs": [],
   "source": [
    "x_train=skb.fit_transform(x_train,y_train[:,0])"
   ]
  },
  {
   "cell_type": "code",
   "execution_count": 247,
   "metadata": {},
   "outputs": [
    {
     "data": {
      "text/plain": [
       "(16600, 21)"
      ]
     },
     "execution_count": 247,
     "metadata": {},
     "output_type": "execute_result"
    }
   ],
   "source": [
    "x_train.shape"
   ]
  },
  {
   "cell_type": "code",
   "execution_count": 248,
   "metadata": {},
   "outputs": [],
   "source": [
    "# 筛选出x_test特征"
   ]
  },
  {
   "cell_type": "code",
   "execution_count": 249,
   "metadata": {},
   "outputs": [],
   "source": [
    "mask=skb.get_support(indices=True)"
   ]
  },
  {
   "cell_type": "code",
   "execution_count": 250,
   "metadata": {},
   "outputs": [
    {
     "data": {
      "text/plain": [
       "array([ 0,  1,  2,  3, 11, 12, 14, 15, 16, 23, 39, 44, 45, 47, 48, 80, 84,\n",
       "       85, 91, 93, 94], dtype=int64)"
      ]
     },
     "execution_count": 250,
     "metadata": {},
     "output_type": "execute_result"
    }
   ],
   "source": [
    "mask"
   ]
  },
  {
   "cell_type": "code",
   "execution_count": 251,
   "metadata": {},
   "outputs": [
    {
     "data": {
      "text/plain": [
       "array([[27.00725206, 38.78191556, 34.80156381, ...,  5.        ,\n",
       "         5.        ,  5.        ],\n",
       "       [26.51587619, 38.68803619, 33.52371746, ...,  5.        ,\n",
       "         5.        ,  5.        ],\n",
       "       [25.80545905, 38.42890667, 37.67869333, ...,  5.        ,\n",
       "         5.        ,  5.        ],\n",
       "       ...,\n",
       "       [27.25748598, 32.62649844,  5.00346978, ...,  5.        ,\n",
       "         5.        ,  5.        ],\n",
       "       [26.2822405 , 31.75218318,  5.00226231, ...,  5.        ,\n",
       "         5.        ,  5.        ],\n",
       "       [24.97500062, 31.03079439,  5.0468    , ...,  5.        ,\n",
       "         5.        ,  5.        ]])"
      ]
     },
     "execution_count": 251,
     "metadata": {},
     "output_type": "execute_result"
    }
   ],
   "source": [
    "x_test"
   ]
  },
  {
   "cell_type": "code",
   "execution_count": 252,
   "metadata": {},
   "outputs": [],
   "source": [
    "x_test=x_test[:,mask]"
   ]
  },
  {
   "cell_type": "code",
   "execution_count": 253,
   "metadata": {},
   "outputs": [
    {
     "data": {
      "text/plain": [
       "(3971, 21)"
      ]
     },
     "execution_count": 253,
     "metadata": {},
     "output_type": "execute_result"
    }
   ],
   "source": [
    "x_test.shape"
   ]
  },
  {
   "cell_type": "code",
   "execution_count": 254,
   "metadata": {},
   "outputs": [
    {
     "data": {
      "text/plain": [
       "array([[27.00725206, 38.78191556, 34.80156381, ..., 46.818726  ,\n",
       "        11.5130587 , 11.5755157 ],\n",
       "       [26.51587619, 38.68803619, 33.52371746, ..., 47.448307  ,\n",
       "        11.5521655 , 11.459198  ],\n",
       "       [25.80545905, 38.42890667, 37.67869333, ..., 47.515667  ,\n",
       "        11.5371056 , 11.486474  ],\n",
       "       ...,\n",
       "       [27.25748598, 32.62649844,  5.00346978, ..., 43.981438  ,\n",
       "        11.615614  , 11.571474  ],\n",
       "       [26.2822405 , 31.75218318,  5.00226231, ..., 43.87454   ,\n",
       "        11.4947977 , 11.54208   ],\n",
       "       [24.97500062, 31.03079439,  5.0468    , ..., 44.46934   ,\n",
       "        11.459312  , 11.524663  ]])"
      ]
     },
     "execution_count": 254,
     "metadata": {},
     "output_type": "execute_result"
    }
   ],
   "source": [
    "x_test"
   ]
  },
  {
   "cell_type": "code",
   "execution_count": 255,
   "metadata": {},
   "outputs": [],
   "source": [
    "# 使用XGBoost模型预测尺寸1的数据"
   ]
  },
  {
   "cell_type": "code",
   "execution_count": 256,
   "metadata": {},
   "outputs": [],
   "source": [
    "model_xgb1 = xgb.XGBRegressor(max_depth=10,      #树的最大深度\n",
    "                             learning_rate=0.05, #学习率\n",
    "                             n_estimators=180,   #迭代次数\n",
    "                             subsample=0.6,      #用于训练模型的子样本占整个样本集合的比例\n",
    "                             colsample_bytree=0.8,#在建立树时对特征随机采样的比例\n",
    "                             min_child_weight=3, #孩子节点中最小的样本权重和\n",
    "                             reg_lambda=2,       #L2 正则的惩罚系数\n",
    "                             seed=1000)          #随机数的种子"
   ]
  },
  {
   "cell_type": "code",
   "execution_count": 257,
   "metadata": {},
   "outputs": [
    {
     "data": {
      "text/plain": [
       "XGBRegressor(base_score=0.5, booster='gbtree', colsample_bylevel=1,\n",
       "             colsample_bynode=1, colsample_bytree=0.8, gamma=0, gpu_id=-1,\n",
       "             importance_type='gain', interaction_constraints='',\n",
       "             learning_rate=0.05, max_delta_step=0, max_depth=10,\n",
       "             min_child_weight=3, missing=nan, monotone_constraints='()',\n",
       "             n_estimators=180, n_jobs=0, num_parallel_tree=1, random_state=1000,\n",
       "             reg_alpha=0, reg_lambda=2, scale_pos_weight=1, seed=1000,\n",
       "             subsample=0.6, tree_method='exact', validate_parameters=1,\n",
       "             verbosity=None)"
      ]
     },
     "execution_count": 257,
     "metadata": {},
     "output_type": "execute_result"
    }
   ],
   "source": [
    "model_xgb1.fit(x_train, y_train[:,0])"
   ]
  },
  {
   "cell_type": "code",
   "execution_count": 258,
   "metadata": {},
   "outputs": [],
   "source": [
    "y_pred1 = model_xgb1.predict(x_test)"
   ]
  },
  {
   "cell_type": "markdown",
   "metadata": {},
   "source": [
    "# 预测 尺寸3"
   ]
  },
  {
   "cell_type": "code",
   "execution_count": 259,
   "metadata": {},
   "outputs": [],
   "source": [
    "# 筛选出x_train特征"
   ]
  },
  {
   "cell_type": "code",
   "execution_count": 260,
   "metadata": {},
   "outputs": [],
   "source": [
    "skb=SelectKBest(f_regression, k=20)"
   ]
  },
  {
   "cell_type": "code",
   "execution_count": 261,
   "metadata": {},
   "outputs": [],
   "source": [
    "x_train=skb.fit_transform(x_train,y_train[:,0])"
   ]
  },
  {
   "cell_type": "code",
   "execution_count": 262,
   "metadata": {},
   "outputs": [],
   "source": [
    "# 筛选出x_test特征"
   ]
  },
  {
   "cell_type": "code",
   "execution_count": 263,
   "metadata": {},
   "outputs": [],
   "source": [
    "mask=skb.get_support(indices=True)"
   ]
  },
  {
   "cell_type": "code",
   "execution_count": 264,
   "metadata": {},
   "outputs": [],
   "source": [
    "x_test=x_test[:,mask]"
   ]
  },
  {
   "cell_type": "code",
   "execution_count": 265,
   "metadata": {},
   "outputs": [],
   "source": [
    "# 使用XGBoost模型预测尺寸3的数据"
   ]
  },
  {
   "cell_type": "code",
   "execution_count": 266,
   "metadata": {},
   "outputs": [],
   "source": [
    "model_xgb3 = xgb.XGBRegressor(max_depth=8, #树的最大深度\n",
    "                             learning_rate=0.05, #学习率\n",
    "                             n_estimators=180,#迭代次数\n",
    "                             subsample=0.6,#用于训练模型的子样本占整个样本集合的比例\n",
    "                             colsample_bytree=0.6,#在建立树时对特征随机采样的比例\n",
    "                             min_child_weight=3,#孩子节点中最小的样本权重和\n",
    "                             reg_lambda=2,#L2 正则的惩罚系数\n",
    "                             seed=1000)#随机数的种子"
   ]
  },
  {
   "cell_type": "code",
   "execution_count": 267,
   "metadata": {},
   "outputs": [],
   "source": [
    "model_xgb3.fit(x_train, y_train[:,2])\n",
    "y_pred3 = model_xgb3.predict(x_test)"
   ]
  },
  {
   "cell_type": "markdown",
   "metadata": {},
   "source": [
    "# 预测尺寸2"
   ]
  },
  {
   "cell_type": "markdown",
   "metadata": {},
   "source": [
    "# 创建预测size2的数据集"
   ]
  },
  {
   "cell_type": "code",
   "execution_count": 268,
   "metadata": {},
   "outputs": [],
   "source": [
    "#训练集数据处理\n",
    "TRAIN_ZIP=zipfile.ZipFile('任务A\\任务A数据集\\训练集\\传感器高频数据.zip')  # 读取传感器高频数据\n",
    "file_list_train=TRAIN_ZIP.namelist()\n",
    "df_train_spc = pd.read_csv('任务A\\任务A数据集\\训练集\\data_spc.csv')  # 读取成型机状态数据"
   ]
  },
  {
   "cell_type": "code",
   "execution_count": 269,
   "metadata": {},
   "outputs": [],
   "source": [
    "model_mean_matrix = []\n",
    "for file in file_list_train:  # 计算传感器高频数据各个特征的平均值\n",
    "    model_data = pd.read_csv(TRAIN_ZIP.open(file))\n",
    "    model_data = np.array(model_data)\n",
    "    model_data_mean = np.mean(model_data, axis=0)\n",
    "    model_mean_matrix.append(model_data_mean)\n",
    "model_mean_matrix = np.around(model_mean_matrix, 8)\n",
    "\n",
    "columns_name = ['SampleTime', 'Phase', 'Sensor1', 'Sensor2', 'Sensor3', 'IJ', 'Sensor5',\n",
    "       'Sensor6', 'MouldTemp1', 'MouldTemp2', 'MouldTemp3', 'MouldTemp4',\n",
    "       'MouldTemp5', 'MouldTemp9', 'MouldTemp10', 'MouldTemp11', 'MouldTemp12',\n",
    "       'MouldTemp13', 'MouldTemp14', 'Sensor8', 'MouldFlow1', 'MouldFlow2', 'MouldFlow3' , 'SP']\n",
    "for i in range(len(columns_name)):\n",
    "    columns_name[i] = columns_name[i] + '_mean'\n",
    "df_train_sensor_meean = pd.DataFrame(model_mean_matrix,columns = columns_name)  # 对各个特征进行重新命名\n",
    "df_train_sensor_meean.to_csv('尺寸2数据/x_train_mean.csv')\n",
    "drop_means_columns = ['SampleTime_mean', 'MouldFlow1_mean', 'MouldFlow2_mean', 'MouldFlow3_mean']\n",
    "for col in drop_means_columns:\n",
    "    df_train_sensor_meean.drop(col, axis=1, inplace=True)  # 丢弃传感器高频数据平均值的个别特征\n"
   ]
  },
  {
   "cell_type": "code",
   "execution_count": 270,
   "metadata": {},
   "outputs": [],
   "source": [
    "drop_spc_columns = ['EL_IV_END_TIME', 'EL_IDLE_TIME', 'EL_CORE_IN_TIME_0', 'EL_CORE_IN_TIME_1', 'EL_CORE_IN_TIME_2','EL_CORE_IN_TIME_3','EL_CORE_OUT_TIME_0',\n",
    "               'EL_CORE_OUT_TIME_1', 'EL_CORE_OUT_TIME_2', 'EL_CORE_OUT_TIME_3', 'EL_SB1_TIME', 'EL_CF_TIME', 'EL_CB_TIME', 'op_mode', 'ext_mold_time_flt_0',\n",
    "               'EL_VPS_TIME', 'ext_mold_time_flt_1', 'ext_mold_time_flt_2','ext_mold_time_flt_3', 'ext_mold_time_flt_4', 'EL_GET_PART_TIME', 'EL_BARREL_MEAN_5',\n",
    "               'EL_BARREL_MEAN_6', 'EL_BARREL_MEAN_7', 'EL_HTRN_TI_0', 'EL_HTRN_TI_1', 'EL_HTRN_TI_2', 'EL_HTRN_TI_3', 'EL_HTRN_TI_4', 'EL_HTRN_TI_5', 'EL_HTRN_TI_6',\n",
    "               'EL_HTRN_TI_7', 'ext_mold_temp_flt_4', 'ext_mold_temp_flt_5', 'ext_mold_temp_flt_6', 'ext_mold_temp_flt_7', 'spcTime', 'rob_enbl', 'remark',\n",
    "               'ext_mold_flow_flt_0', 'EL_PP_STG_POS_3', 'EL_PP_STG_POS_4', 'EL_CF_END_PRESS', 'EL_PLST_BP_2', 'EL_PLST_BP_3', 'EL_PLST_BP_4']\n",
    "for col in drop_spc_columns:\n",
    "    df_train_spc.drop(col, axis=1, inplace=True)  # 丢弃成型机转态数据的一部分特征"
   ]
  },
  {
   "cell_type": "code",
   "execution_count": 271,
   "metadata": {},
   "outputs": [
    {
     "name": "stdout",
     "output_type": "stream",
     "text": [
      "           Id  EL_CYC_TIME  EL_PLST_TIME  EL_LAST_COOL_TIME  EL_MC_TIME  \\\n",
      "0       33722       37.376         6.252              5.748       3.101   \n",
      "1       34803       37.362         6.762              5.238       3.093   \n",
      "2       36621       37.376         6.254              5.746       3.106   \n",
      "3       36622       37.372         6.605              5.395       3.098   \n",
      "4       36623       37.360         6.207              5.793       3.090   \n",
      "...       ...          ...           ...                ...         ...   \n",
      "16595  150696       41.179         6.867              9.133       3.161   \n",
      "16596  150701       41.179         7.476              8.524       3.170   \n",
      "16597  150706       41.189         7.180              8.820       3.163   \n",
      "16598  150711       41.199         7.531              8.469       3.160   \n",
      "16599  150716       41.291         7.418              8.582       3.176   \n",
      "\n",
      "       EL_MO_TIME  EL_EF_TIME  EL_EB_TIME  EL_IV_TIME  EL_PP_TIME  ...  \\\n",
      "0           1.969       1.057       1.915       1.527      13.502  ...   \n",
      "1           1.965       1.054       1.913       1.530      13.502  ...   \n",
      "2           1.968       1.053       1.910       1.532      13.502  ...   \n",
      "3           1.968       1.052       1.911       1.536      13.502  ...   \n",
      "4           1.965       1.055       1.912       1.531      13.502  ...   \n",
      "...           ...         ...         ...         ...         ...  ...   \n",
      "16595       2.076       2.036       2.653       1.946      11.002  ...   \n",
      "16596       2.085       2.082       2.592       1.943      11.002  ...   \n",
      "16597       2.060       2.070       2.646       1.943      11.002  ...   \n",
      "16598       2.086       2.068       2.640       1.938      11.002  ...   \n",
      "16599       2.078       2.077       2.712       1.941      11.002  ...   \n",
      "\n",
      "       MouldTemp4_mean  MouldTemp5_mean  MouldTemp9_mean  MouldTemp10_mean  \\\n",
      "0            95.089052        65.465557        85.968575         93.181042   \n",
      "1            95.102305        64.373431        84.086884         92.033444   \n",
      "2            95.197569        64.506142        83.935844         91.998083   \n",
      "3            94.916517        64.604225        83.940259         91.985981   \n",
      "4            94.959667        64.684699        83.999145         91.985582   \n",
      "...                ...              ...              ...               ...   \n",
      "16595        60.594415        15.000000        92.744062         89.527278   \n",
      "16596        61.452176        15.000000        92.711560         89.537684   \n",
      "16597        60.381103        15.000000        92.883905         89.689067   \n",
      "16598        60.608097        15.000000        92.643544         89.481027   \n",
      "16599        61.503402        15.000000        92.706729         89.576129   \n",
      "\n",
      "       MouldTemp11_mean  MouldTemp12_mean  MouldTemp13_mean  MouldTemp14_mean  \\\n",
      "0             85.736447         93.088439         89.722241         92.699189   \n",
      "1             83.534848         92.953063         89.320730         92.157465   \n",
      "2             83.422624         92.938837         89.340768         92.141687   \n",
      "3             83.433669         92.911501         89.327818         92.121225   \n",
      "4             83.503241         92.952203         89.314905         92.155243   \n",
      "...                 ...               ...               ...               ...   \n",
      "16595        812.600000         15.000000         93.464686         89.533493   \n",
      "16596        812.600000         15.000000         93.359487         89.558629   \n",
      "16597        812.600000         15.000000         93.444274         89.556325   \n",
      "16598        812.600000         15.000000         93.402222         89.532752   \n",
      "16599        812.600000         15.000000         93.419802         89.554240   \n",
      "\n",
      "       Sensor8_mean    SP_mean  \n",
      "0         15.721223  65.295029  \n",
      "1         15.475667  64.859819  \n",
      "2         15.722268  65.313014  \n",
      "3         15.493349  65.176727  \n",
      "4         15.683280  66.066778  \n",
      "...             ...        ...  \n",
      "16595      5.000000  73.573889  \n",
      "16596      5.000000  72.973554  \n",
      "16597      5.000000  73.570273  \n",
      "16598      5.000000  73.438268  \n",
      "16599      5.000000  73.326892  \n",
      "\n",
      "[16600 rows x 60 columns]\n"
     ]
    }
   ],
   "source": [
    "df_x_train = pd.concat([df_train_spc, df_train_sensor_meean], axis = 1)  # 将处理完成的传感器高频数据特征与成形机状态数据进行拼接\n",
    "TRAIN_ZIP.close()  # 读取传感器高频数据关闭\n",
    "# df_x_train.to_csv('尺寸2数据/x_train整理.csv')\n",
    "print(df_x_train)"
   ]
  },
  {
   "cell_type": "code",
   "execution_count": 272,
   "metadata": {},
   "outputs": [],
   "source": [
    "#测试集数据处理\n",
    "TEST_ZIP=zipfile.ZipFile('任务A\\任务A数据集\\测试集\\传感器高频数据.zip')  # 读取传感器高频数据\n",
    "file_list_test=TEST_ZIP.namelist()\n",
    "df_test_spc = pd.read_csv('任务A\\任务A数据集\\测试集/data_spc.csv')  # 读取成型机状态数据"
   ]
  },
  {
   "cell_type": "code",
   "execution_count": 273,
   "metadata": {},
   "outputs": [],
   "source": [
    "model_mean_matrix = []\n",
    "for file in file_list_test:  # 计算传感器高频数据各个特征的平均值\n",
    "    model_data = pd.read_csv(TEST_ZIP.open(file))\n",
    "    model_data = np.array(model_data)\n",
    "    model_data_mean = np.mean(model_data, axis=0)\n",
    "    model_mean_matrix.append(model_data_mean)\n",
    "model_mean_matrix = np.around(model_mean_matrix, 8)\n",
    "\n",
    "columns_name = ['SampleTime', 'Phase', 'Sensor1', 'Sensor2', 'Sensor3', 'IJ', 'Sensor5',\n",
    "       'Sensor6', 'MouldTemp1', 'MouldTemp2', 'MouldTemp3', 'MouldTemp4',\n",
    "       'MouldTemp5', 'MouldTemp9', 'MouldTemp10', 'MouldTemp11', 'MouldTemp12',\n",
    "       'MouldTemp13', 'MouldTemp14', 'Sensor8', 'MouldFlow1', 'MouldFlow2', 'MouldFlow3' , 'SP']\n",
    "for i in range(len(columns_name)):\n",
    "    columns_name[i] = columns_name[i] + '_mean'  \n",
    "df_test_sensor_meean = pd.DataFrame(model_mean_matrix,columns = columns_name)  # 对各个特征进行重新命名\n",
    "\n",
    "drop_means_columns = ['SampleTime_mean', 'MouldFlow1_mean', 'MouldFlow2_mean', 'MouldFlow3_mean']\n",
    "for col in drop_means_columns:\n",
    "    df_test_sensor_meean.drop(col, axis=1, inplace=True)  # 丢弃传感器高频数据平均值的个别特征\n"
   ]
  },
  {
   "cell_type": "code",
   "execution_count": 274,
   "metadata": {},
   "outputs": [],
   "source": [
    "drop_spc_columns = ['EL_IV_END_TIME', 'EL_IDLE_TIME', 'EL_CORE_IN_TIME_0', 'EL_CORE_IN_TIME_1', 'EL_CORE_IN_TIME_2','EL_CORE_IN_TIME_3','EL_CORE_OUT_TIME_0',\n",
    "               'EL_CORE_OUT_TIME_1', 'EL_CORE_OUT_TIME_2', 'EL_CORE_OUT_TIME_3', 'EL_SB1_TIME', 'EL_CF_TIME', 'EL_CB_TIME', 'op_mode', 'ext_mold_time_flt_0',\n",
    "               'EL_VPS_TIME', 'ext_mold_time_flt_1', 'ext_mold_time_flt_2','ext_mold_time_flt_3', 'ext_mold_time_flt_4', 'EL_GET_PART_TIME', 'EL_BARREL_MEAN_5',\n",
    "               'EL_BARREL_MEAN_6', 'EL_BARREL_MEAN_7', 'EL_HTRN_TI_0', 'EL_HTRN_TI_1', 'EL_HTRN_TI_2', 'EL_HTRN_TI_3', 'EL_HTRN_TI_4', 'EL_HTRN_TI_5', 'EL_HTRN_TI_6',\n",
    "               'EL_HTRN_TI_7', 'ext_mold_temp_flt_4', 'ext_mold_temp_flt_5', 'ext_mold_temp_flt_6', 'ext_mold_temp_flt_7', 'spcTime', 'rob_enbl', 'remark',\n",
    "               'ext_mold_flow_flt_0', 'EL_PP_STG_POS_3', 'EL_PP_STG_POS_4', 'EL_CF_END_PRESS', 'EL_PLST_BP_2', 'EL_PLST_BP_3', 'EL_PLST_BP_4']\n",
    "for col in drop_spc_columns:\n",
    "    df_test_spc.drop(col, axis=1, inplace=True)  # 丢弃成型机转态数据的一部分特征"
   ]
  },
  {
   "cell_type": "code",
   "execution_count": 275,
   "metadata": {},
   "outputs": [
    {
     "name": "stdout",
     "output_type": "stream",
     "text": [
      "          Id  EL_CYC_TIME  EL_PLST_TIME  EL_LAST_COOL_TIME  EL_MC_TIME  \\\n",
      "0      56694       37.609         7.305              4.695       3.090   \n",
      "1      56699       37.620         7.085              4.915       3.094   \n",
      "2      56705       37.615         7.067              4.933       3.098   \n",
      "3      56708       37.622         7.254              4.746       3.099   \n",
      "4      56712       37.621         7.109              4.891       3.100   \n",
      "...      ...          ...           ...                ...         ...   \n",
      "3966  175941       39.274         7.932              7.068       2.972   \n",
      "3967  175956       39.214         7.912              7.088       2.958   \n",
      "3968  175971       39.223         7.903              7.097       2.967   \n",
      "3969  176121       39.203         6.765              8.235       2.957   \n",
      "3970  176136       39.229         7.764              7.236       2.960   \n",
      "\n",
      "      EL_MO_TIME  EL_EF_TIME  EL_EB_TIME  EL_IV_TIME  EL_PP_TIME  ...  \\\n",
      "0          1.963       1.051       1.910       1.788      13.502  ...   \n",
      "1          1.967       1.053       1.910       1.789      13.502  ...   \n",
      "2          1.964       1.045       1.907       1.794      13.502  ...   \n",
      "3          1.965       1.049       1.912       1.790      13.502  ...   \n",
      "4          1.960       1.054       1.913       1.787      13.502  ...   \n",
      "...          ...         ...         ...         ...         ...  ...   \n",
      "3966       2.071       2.063       2.661       1.700      10.502  ...   \n",
      "3967       2.077       2.039       2.639       1.694      10.502  ...   \n",
      "3968       2.068       2.037       2.654       1.690      10.502  ...   \n",
      "3969       2.057       2.051       2.641       1.690      10.502  ...   \n",
      "3970       2.070       2.045       2.652       1.695      10.502  ...   \n",
      "\n",
      "      MouldTemp4_mean  MouldTemp5_mean  MouldTemp9_mean  MouldTemp10_mean  \\\n",
      "0           99.940635        68.475175        88.506922         96.311397   \n",
      "1          100.254159        68.419302        88.575653         96.390724   \n",
      "2          100.288190        68.505079        88.579516         96.402325   \n",
      "3          100.067048        68.257016        88.525157         96.326372   \n",
      "4           99.923683        68.464762        88.588510         96.289429   \n",
      "...               ...              ...              ...               ...   \n",
      "3966        78.301355        15.000000       105.997856        101.238629   \n",
      "3967        77.340333        15.000000       105.897555        100.972025   \n",
      "3968        77.990209        15.000000       105.817979        101.060314   \n",
      "3969        76.689371        15.000000       107.216368        102.294351   \n",
      "3970        76.913953        15.000000       106.842078        102.059636   \n",
      "\n",
      "      MouldTemp11_mean  MouldTemp12_mean  MouldTemp13_mean  MouldTemp14_mean  \\\n",
      "0            87.980595         94.766999         91.670248         94.511723   \n",
      "1            88.081367         94.737282         91.639628         94.501354   \n",
      "2            88.138997         94.726852         91.646796         94.468986   \n",
      "3            88.076337         94.724996         91.578983         94.465647   \n",
      "4            88.060491         94.762997         91.665155         94.507613   \n",
      "...                ...               ...               ...               ...   \n",
      "3966        812.600000         15.000000         91.737604         86.747833   \n",
      "3967        812.600000         15.000000         91.764220         86.827348   \n",
      "3968        812.600000         15.000000         91.762918         86.705363   \n",
      "3969        812.600000         15.000000         93.328454         88.135793   \n",
      "3970        812.600000         15.000000         93.140331         87.957394   \n",
      "\n",
      "      Sensor8_mean    SP_mean  \n",
      "0        15.583359  65.634748  \n",
      "1        15.537726  65.740812  \n",
      "2        15.673457  65.685830  \n",
      "3        15.451686  65.511550  \n",
      "4        15.533126  65.559074  \n",
      "...            ...        ...  \n",
      "3966      5.000000  73.243534  \n",
      "3967      5.000000  73.293959  \n",
      "3968      5.000000  73.177869  \n",
      "3969      5.000000  73.911702  \n",
      "3970      5.000000  73.408012  \n",
      "\n",
      "[3971 rows x 60 columns]\n"
     ]
    }
   ],
   "source": [
    "df_x_test = pd.concat([df_test_spc, df_test_sensor_meean], axis = 1)  # 将处理完成的传感器高频数据特征与成形机状态数据进行拼接\n",
    "TEST_ZIP.close()  # 读取传感器高频数据关闭\n",
    "# df_x_test.to_csv('尺寸2数据/x_test整理.csv')\n",
    "print(df_x_test)"
   ]
  },
  {
   "cell_type": "code",
   "execution_count": 276,
   "metadata": {},
   "outputs": [],
   "source": [
    "df_y_train = pd.read_csv('任务A\\任务A数据集\\训练集\\Size.csv')\n",
    "df_x_train.drop('Id', axis=1, inplace=True)\n",
    "df_x_test.drop('Id', axis=1, inplace=True)\n",
    "df_y_train.drop('Id', axis=1, inplace=True)\n",
    "\n",
    "    \n",
    "x_train = np.array(df_x_train)\n",
    "y_train = np.array(df_y_train)\n",
    "x_test = np.array(df_x_test)"
   ]
  },
  {
   "cell_type": "code",
   "execution_count": 277,
   "metadata": {},
   "outputs": [],
   "source": [
    "# 使用lightGBM模型预测尺寸2的数据"
   ]
  },
  {
   "cell_type": "code",
   "execution_count": 278,
   "metadata": {},
   "outputs": [],
   "source": [
    "model_lgb = lgb.LGBMRegressor(boosting_type='gbdt',  # 设置提升类型\n",
    "                              objective='regression',  # 目标函数\n",
    "                              #     metric= 'l2',  # 评估函数\n",
    "                              num_leaves=25,  # 叶子节点数\n",
    "                              learning_rate=0.24,  # 学习速率\n",
    "                              feature_fraction=0.9,  # 建树的特征选择比例\n",
    "                              bagging_fraction=0.8,  # 建树的样本采样比例\n",
    "                              bagging_freq=5,  # k 意味着每 k 次迭代执行bagging\n",
    "                              verbose=1)  # <0 显示致命的, =0 显示错误 (警告), >0 显示信息)"
   ]
  },
  {
   "cell_type": "code",
   "execution_count": 279,
   "metadata": {
    "scrolled": true
   },
   "outputs": [
    {
     "name": "stdout",
     "output_type": "stream",
     "text": [
      "[LightGBM] [Warning] feature_fraction is set=0.9, colsample_bytree=1.0 will be ignored. Current value: feature_fraction=0.9\n",
      "[LightGBM] [Warning] bagging_fraction is set=0.8, subsample=1.0 will be ignored. Current value: bagging_fraction=0.8\n",
      "[LightGBM] [Warning] bagging_freq is set=5, subsample_freq=0 will be ignored. Current value: bagging_freq=5\n",
      "[LightGBM] [Warning] feature_fraction is set=0.9, colsample_bytree=1.0 will be ignored. Current value: feature_fraction=0.9\n",
      "[LightGBM] [Warning] bagging_fraction is set=0.8, subsample=1.0 will be ignored. Current value: bagging_fraction=0.8\n",
      "[LightGBM] [Warning] bagging_freq is set=5, subsample_freq=0 will be ignored. Current value: bagging_freq=5\n",
      "[LightGBM] [Warning] Auto-choosing col-wise multi-threading, the overhead of testing was 0.007298 seconds.\n",
      "You can set `force_col_wise=true` to remove the overhead.\n",
      "[LightGBM] [Info] Total Bins 12418\n",
      "[LightGBM] [Info] Number of data points in the train set: 16600, number of used features: 59\n",
      "[LightGBM] [Info] Start training from score 200.005452\n"
     ]
    }
   ],
   "source": [
    "model_lgb .fit(x_train, y_train[:,1])\n",
    "y_pred2 = model_lgb .predict(x_test)"
   ]
  },
  {
   "cell_type": "code",
   "execution_count": 280,
   "metadata": {},
   "outputs": [
    {
     "data": {
      "text/plain": [
       "(16600, 59)"
      ]
     },
     "execution_count": 280,
     "metadata": {},
     "output_type": "execute_result"
    }
   ],
   "source": [
    " x_train.shape"
   ]
  },
  {
   "cell_type": "code",
   "execution_count": null,
   "metadata": {},
   "outputs": [],
   "source": []
  },
  {
   "cell_type": "markdown",
   "metadata": {},
   "source": [
    "# 结合"
   ]
  },
  {
   "cell_type": "code",
   "execution_count": 281,
   "metadata": {},
   "outputs": [],
   "source": [
    "y_pred=np.zeros((3971,3))\n",
    "y_pred[:,0]=y_pred1\n",
    "y_pred[:,1]=y_pred2\n",
    "y_pred[:,2]=y_pred3"
   ]
  },
  {
   "cell_type": "code",
   "execution_count": 282,
   "metadata": {},
   "outputs": [],
   "source": [
    "df = pd.DataFrame(y_pred)\n",
    "df.to_csv('subfile000.csv')"
   ]
  }
 ],
 "metadata": {
  "kernelspec": {
   "display_name": "Python 3",
   "language": "python",
   "name": "python3"
  },
  "language_info": {
   "codemirror_mode": {
    "name": "ipython",
    "version": 3
   },
   "file_extension": ".py",
   "mimetype": "text/x-python",
   "name": "python",
   "nbconvert_exporter": "python",
   "pygments_lexer": "ipython3",
   "version": "3.8.5"
  }
 },
 "nbformat": 4,
 "nbformat_minor": 4
}
